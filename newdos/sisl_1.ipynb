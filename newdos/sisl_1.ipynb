{
 "cells": [
  {
   "cell_type": "markdown",
   "id": "b5c841ff-2c60-4384-ad46-69b1770655bf",
   "metadata": {},
   "source": [
    "SISL stuff"
   ]
  },
  {
   "cell_type": "code",
   "execution_count": 1,
   "id": "904acebd-3ead-456a-add9-a792977ffdfc",
   "metadata": {},
   "outputs": [],
   "source": [
    "import numpy as np\n",
    "from sisl import *\n",
    "import sisl.viz\n",
    "import matplotlib.pyplot as plt\n",
    "\n"
   ]
  },
  {
   "cell_type": "code",
   "execution_count": null,
   "id": "160ff404-fa35-48a0-b38b-e7128218eb40",
   "metadata": {},
   "outputs": [],
   "source": [
    "\n"
   ]
  },
  {
   "cell_type": "code",
   "execution_count": 2,
   "id": "96c5727f-527c-481d-9ef4-5580210d74f4",
   "metadata": {},
   "outputs": [
    {
     "name": "stdout",
     "output_type": "stream",
     "text": [
      "Hamiltonian{non-zero: 6201572, orthogonal: False,\n",
      " Spin{polarized, kind=f},\n",
      " Geometry{na: 1282, no: 13386,\n",
      "  Atoms{species: 4,\n",
      "   Atom{C, Z: 6, mass(au): 12.01000, maxR: 2.54640,\n",
      "    AtomicOrbital{2sZ1, q0: 2.0, SphericalOrbital{l: 0, R: 2.1216000000000035, q0: 2.0}},\n",
      "    AtomicOrbital{2sZ2, q0: 0.0, SphericalOrbital{l: 0, R: 1.6771999999999991, q0: 0.0}},\n",
      "    AtomicOrbital{2pyZ1, q0: 0.6666666666666666, SphericalOrbital{l: 1, R: 2.527400000000016, q0: 2.0}},\n",
      "    AtomicOrbital{2pzZ1, q0: 0.6666666666666666, SphericalOrbital{l: 1, R: 2.527400000000016, q0: 2.0}},\n",
      "    AtomicOrbital{2pxZ1, q0: 0.6666666666666666, SphericalOrbital{l: 1, R: 2.527400000000016, q0: 2.0}},\n",
      "    AtomicOrbital{2pyZ2, q0: 0.0, SphericalOrbital{l: 1, R: 1.7504, q0: 0.0}},\n",
      "    AtomicOrbital{2pzZ2, q0: 0.0, SphericalOrbital{l: 1, R: 1.7504, q0: 0.0}},\n",
      "    AtomicOrbital{2pxZ2, q0: 0.0, SphericalOrbital{l: 1, R: 1.7504, q0: 0.0}},\n",
      "    AtomicOrbital{3dxyZ1P, q0: 0.0, SphericalOrbital{l: 2, R: 2.546400000000014, q0: 0.0}},\n",
      "    AtomicOrbital{3dyzZ1P, q0: 0.0, SphericalOrbital{l: 2, R: 2.546400000000014, q0: 0.0}},\n",
      "    AtomicOrbital{3dz2Z1P, q0: 0.0, SphericalOrbital{l: 2, R: 2.546400000000014, q0: 0.0}},\n",
      "    AtomicOrbital{3dxzZ1P, q0: 0.0, SphericalOrbital{l: 2, R: 2.546400000000014, q0: 0.0}},\n",
      "    AtomicOrbital{3dx2-y2Z1P, q0: 0.0, SphericalOrbital{l: 2, R: 2.546400000000014, q0: 0.0}}\n",
      "   }: 416,\n",
      "   Atom{H, Z: 1, mass(au): 1.01000, maxR: 2.45890,\n",
      "    AtomicOrbital{1sZ1, q0: 1.0, SphericalOrbital{l: 0, R: 2.436100000000013, q0: 1.0}},\n",
      "    AtomicOrbital{1sZ2, q0: 0.0, SphericalOrbital{l: 0, R: 1.8615, q0: 0.0}},\n",
      "    AtomicOrbital{2pyZ1P, q0: 0.0, SphericalOrbital{l: 1, R: 2.458900000000019, q0: 0.0}},\n",
      "    AtomicOrbital{2pzZ1P, q0: 0.0, SphericalOrbital{l: 1, R: 2.458900000000019, q0: 0.0}},\n",
      "    AtomicOrbital{2pxZ1P, q0: 0.0, SphericalOrbital{l: 1, R: 2.458900000000019, q0: 0.0}}\n",
      "   }: 418,\n",
      "   Atom{F, Z: 9, mass(au): 19.00000, maxR: 1.87320,\n",
      "    AtomicOrbital{2sZ1, q0: 2.0, SphericalOrbital{l: 0, R: 1.5549999999999995, q0: 2.0}},\n",
      "    AtomicOrbital{2sZ2, q0: 0.0, SphericalOrbital{l: 0, R: 1.1134999999999997, q0: 0.0}},\n",
      "    AtomicOrbital{2pyZ1, q0: 1.6666666666666667, SphericalOrbital{l: 1, R: 1.8551999999999995, q0: 5.0}},\n",
      "    AtomicOrbital{2pzZ1, q0: 1.6666666666666667, SphericalOrbital{l: 1, R: 1.8551999999999995, q0: 5.0}},\n",
      "    AtomicOrbital{2pxZ1, q0: 1.6666666666666667, SphericalOrbital{l: 1, R: 1.8551999999999995, q0: 5.0}},\n",
      "    AtomicOrbital{2pyZ2, q0: 0.0, SphericalOrbital{l: 1, R: 1.1370999999999993, q0: 0.0}},\n",
      "    AtomicOrbital{2pzZ2, q0: 0.0, SphericalOrbital{l: 1, R: 1.1370999999999993, q0: 0.0}},\n",
      "    AtomicOrbital{2pxZ2, q0: 0.0, SphericalOrbital{l: 1, R: 1.1370999999999993, q0: 0.0}},\n",
      "    AtomicOrbital{3dxyZ1P, q0: 0.0, SphericalOrbital{l: 2, R: 1.8731999999999998, q0: 0.0}},\n",
      "    AtomicOrbital{3dyzZ1P, q0: 0.0, SphericalOrbital{l: 2, R: 1.8731999999999998, q0: 0.0}},\n",
      "    AtomicOrbital{3dz2Z1P, q0: 0.0, SphericalOrbital{l: 2, R: 1.8731999999999998, q0: 0.0}},\n",
      "    AtomicOrbital{3dxzZ1P, q0: 0.0, SphericalOrbital{l: 2, R: 1.8731999999999998, q0: 0.0}},\n",
      "    AtomicOrbital{3dx2-y2Z1P, q0: 0.0, SphericalOrbital{l: 2, R: 1.8731999999999998, q0: 0.0}}\n",
      "   }: 416,\n",
      "   Atom{Ag, Z: 47, mass(au): 107.87000, maxR: 3.49660,\n",
      "    AtomicOrbital{5sZ1, q0: 1.0, SphericalOrbital{l: 0, R: 3.488400000000018, q0: 1.0}},\n",
      "    AtomicOrbital{5sZ2, q0: 0.0, SphericalOrbital{l: 0, R: 3.207000000000015, q0: 0.0}},\n",
      "    AtomicOrbital{4dxyZ1, q0: 2.0, SphericalOrbital{l: 2, R: 2.0540000000000087, q0: 10.0}},\n",
      "    AtomicOrbital{4dyzZ1, q0: 2.0, SphericalOrbital{l: 2, R: 2.0540000000000087, q0: 10.0}},\n",
      "    AtomicOrbital{4dz2Z1, q0: 2.0, SphericalOrbital{l: 2, R: 2.0540000000000087, q0: 10.0}},\n",
      "    AtomicOrbital{4dxzZ1, q0: 2.0, SphericalOrbital{l: 2, R: 2.0540000000000087, q0: 10.0}},\n",
      "    AtomicOrbital{4dx2-y2Z1, q0: 2.0, SphericalOrbital{l: 2, R: 2.0540000000000087, q0: 10.0}},\n",
      "    AtomicOrbital{4dxyZ2, q0: 0.0, SphericalOrbital{l: 2, R: 1.2841999999999996, q0: 0.0}},\n",
      "    AtomicOrbital{4dyzZ2, q0: 0.0, SphericalOrbital{l: 2, R: 1.2841999999999996, q0: 0.0}},\n",
      "    AtomicOrbital{4dz2Z2, q0: 0.0, SphericalOrbital{l: 2, R: 1.2841999999999996, q0: 0.0}},\n",
      "    AtomicOrbital{4dxzZ2, q0: 0.0, SphericalOrbital{l: 2, R: 1.2841999999999996, q0: 0.0}},\n",
      "    AtomicOrbital{4dx2-y2Z2, q0: 0.0, SphericalOrbital{l: 2, R: 1.2841999999999996, q0: 0.0}},\n",
      "    AtomicOrbital{5pyZ1P, q0: 0.0, SphericalOrbital{l: 1, R: 3.496600000000014, q0: 0.0}},\n",
      "    AtomicOrbital{5pzZ1P, q0: 0.0, SphericalOrbital{l: 1, R: 3.496600000000014, q0: 0.0}},\n",
      "    AtomicOrbital{5pxZ1P, q0: 0.0, SphericalOrbital{l: 1, R: 3.496600000000014, q0: 0.0}}\n",
      "   }: 32,\n",
      "  },\n",
      "  maxR: 3.49660,\n",
      "  Lattice{nsc: [1 1 1],\n",
      "   origin=0.0000, 0.0000, 0.0000,\n",
      "   A=[22.5340, 0.0000, 0.0000],\n",
      "   B=[0.0000, 24.4720, 0.0000],\n",
      "   C=[0.0000, 0.0000, 23.6490],\n",
      "   bc=[Periodic,\n",
      "       Periodic,\n",
      "       Periodic]\n",
      "  }\n",
      " }\n",
      "}\n"
     ]
    }
   ],
   "source": [
    "fdf = get_sile(\"z1y0_done/opt_dos.fdf\")\n",
    "H = fdf.read_hamiltonian()\n",
    "print(H)"
   ]
  },
  {
   "cell_type": "code",
   "execution_count": 3,
   "id": "62196963-adf4-4677-a4ec-4aed215fb65e",
   "metadata": {},
   "outputs": [],
   "source": [
    "bz = BandStructure(\n",
    "    H,\n",
    "    [[0.00, 0.00, 0.00] , [0.000,  0.000,  0.500], [0.50, 0.00, 0.50],[0.50, 0.50, 0.50],[0.00, 0.00, 0.00],[0.00, 0.50, 0.00]],\n",
    "    400,\n",
    "    names=[r\"$\\Gamma$\", r\"$X$\", r\"$S$\",r\"$R$\", r\"$\\Gamma$\",r\"$Z$\"],\n",
    ")\n",
    "\n"
   ]
  },
  {
   "cell_type": "code",
   "execution_count": 7,
   "id": "b73d9662-825b-45d4-8099-3b1f0ae0aa4b",
   "metadata": {},
   "outputs": [],
   "source": [
    "orb_groups = [\n",
    "    {\"l\": 0,\"n\": 5, \"name\": \"5s\", \"color\": \"red\"},\n",
    "    {\"l\": 2,\"n\": 4, \"m\": [-2,-1,0, 1,2], \"name\": \"d\", \"color\": \"blue\"},\n",
    "    {\"l\": 1, \"m\": 0, \"name\": \"pz\", \"color\": \"green\"},\n",
    "]"
   ]
  },
  {
   "cell_type": "code",
   "execution_count": null,
   "id": "ee864064-09c6-428f-b1ef-4389cccac6b6",
   "metadata": {},
   "outputs": [],
   "source": [
    "bz.plot.fatbands(groups=orb_groups, Erange=[-21, 10])"
   ]
  },
  {
   "cell_type": "code",
   "execution_count": null,
   "id": "0cc83204-54a3-4b38-94f7-0061f5402cf4",
   "metadata": {},
   "outputs": [],
   "source": []
  },
  {
   "cell_type": "code",
   "execution_count": null,
   "id": "aaa9bc8d-f1f9-404e-8e20-76cd2bba6f6c",
   "metadata": {},
   "outputs": [],
   "source": [
    "es = H.eigenstate()\n",
    "idx_valence = (es.eig > 0).nonzero()[0][0] - 1\n",
    "# Only select the valence band state\n",
    "es = es.sub(idx_valence)\n",
    "\n",
    "# Generate a grid encompassing a 2x2 graphene unit-cell\n",
    "g = Grid(0.2, lattice=H.geometry.lattice.tile(3, 0).tile(3, 1))\n",
    "# Calculate the real-space wavefunctions\n",
    "es.wavefunction(g)\n",
    "\n",
    "# Extract the wavefunction a few Ang above the graphene plane\n",
    "# To do this we need to find the index of the corresponding z-plane.\n",
    "# The Grid.index method is useful in this regard.\n",
    "xyz = H.geometry.xyz[0, :].copy()\n",
    "xyz[2] += 4.0\n",
    "z_idx = g.index(xyz, axis=2)\n",
    "x, y = np.mgrid[: g.shape[0], : g.shape[1]]\n",
    "x, y = x * g.dcell[0, 0] + y * g.dcell[1, 0], x * g.dcell[0, 1] + y * g.dcell[1, 1]\n",
    "plt.contourf(x, y, g.grid[:, :, z_idx])\n",
    "xyz = H.geometry.tile(2, 0).tile(2, 1).xyz\n",
    "plt.scatter(xyz[:, 0], xyz[:, 1], 20, c=\"k\")\n",
    "plt.xlabel(r\"$x$ [Ang]\")\n",
    "plt.ylabel(r\"$y$ [Ang]\");"
   ]
  },
  {
   "cell_type": "code",
   "execution_count": null,
   "id": "76507969-129d-41f7-98c9-99ca967c659b",
   "metadata": {},
   "outputs": [],
   "source": []
  }
 ],
 "metadata": {
  "kernelspec": {
   "display_name": "Python 3 (ipykernel)",
   "language": "python",
   "name": "python3"
  },
  "language_info": {
   "codemirror_mode": {
    "name": "ipython",
    "version": 3
   },
   "file_extension": ".py",
   "mimetype": "text/x-python",
   "name": "python",
   "nbconvert_exporter": "python",
   "pygments_lexer": "ipython3",
   "version": "3.11.4"
  }
 },
 "nbformat": 4,
 "nbformat_minor": 5
}
