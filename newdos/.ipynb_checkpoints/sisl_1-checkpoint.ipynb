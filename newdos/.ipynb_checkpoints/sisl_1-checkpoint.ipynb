{
 "cells": [
  {
   "cell_type": "markdown",
   "id": "b5c841ff-2c60-4384-ad46-69b1770655bf",
   "metadata": {},
   "source": [
    "SISL stuff"
   ]
  },
  {
   "cell_type": "code",
   "execution_count": 11,
   "id": "904acebd-3ead-456a-add9-a792977ffdfc",
   "metadata": {},
   "outputs": [],
   "source": [
    "import os\n",
    "import numpy as np\n",
    "import sisl\n",
    "import sisl.viz\n",
    "import matplotlib.pyplot as plt\n",
    "\n"
   ]
  },
  {
   "cell_type": "code",
   "execution_count": 12,
   "id": "160ff404-fa35-48a0-b38b-e7128218eb40",
   "metadata": {},
   "outputs": [
    {
     "ename": "SyntaxError",
     "evalue": "invalid syntax (491489481.py, line 1)",
     "output_type": "error",
     "traceback": [
      "\u001b[0;36m  Cell \u001b[0;32mIn[12], line 1\u001b[0;36m\u001b[0m\n\u001b[0;31m    which sisl\u001b[0m\n\u001b[0m          ^\u001b[0m\n\u001b[0;31mSyntaxError\u001b[0m\u001b[0;31m:\u001b[0m invalid syntax\n"
     ]
    }
   ],
   "source": [
    "which sisl"
   ]
  },
  {
   "cell_type": "code",
   "execution_count": 9,
   "id": "96c5727f-527c-481d-9ef4-5580210d74f4",
   "metadata": {},
   "outputs": [
    {
     "ename": "NameError",
     "evalue": "name 'hsxSileSiesta' is not defined",
     "output_type": "error",
     "traceback": [
      "\u001b[0;31m---------------------------------------------------------------------------\u001b[0m",
      "\u001b[0;31mNameError\u001b[0m                                 Traceback (most recent call last)",
      "Cell \u001b[0;32mIn[9], line 1\u001b[0m\n\u001b[0;32m----> 1\u001b[0m hsx \u001b[38;5;241m=\u001b[39m \u001b[43mhsxSileSiesta\u001b[49m(\u001b[38;5;124m\"\u001b[39m\u001b[38;5;124mz1y0_done/opt_dos.HSX\u001b[39m\u001b[38;5;124m\"\u001b[39m)\n\u001b[1;32m      2\u001b[0m HS \u001b[38;5;241m=\u001b[39m hsx\u001b[38;5;241m.\u001b[39mread_hamiltonian()\n\u001b[1;32m      3\u001b[0m HS \u001b[38;5;241m=\u001b[39m hsx\u001b[38;5;241m.\u001b[39mread_hamiltonian\n",
      "\u001b[0;31mNameError\u001b[0m: name 'hsxSileSiesta' is not defined"
     ]
    }
   ],
   "source": [
    "hsx = hsxSileSiesta(\"z1y0_done/opt_dos.HSX\")\n",
    "HS = hsx.read_hamiltonian()\n",
    "HS = hsx.read_hamiltonian"
   ]
  },
  {
   "cell_type": "code",
   "execution_count": null,
   "id": "62196963-adf4-4677-a4ec-4aed215fb65e",
   "metadata": {},
   "outputs": [],
   "source": []
  }
 ],
 "metadata": {
  "kernelspec": {
   "display_name": "Python 3 (ipykernel)",
   "language": "python",
   "name": "python3"
  },
  "language_info": {
   "codemirror_mode": {
    "name": "ipython",
    "version": 3
   },
   "file_extension": ".py",
   "mimetype": "text/x-python",
   "name": "python",
   "nbconvert_exporter": "python",
   "pygments_lexer": "ipython3",
   "version": "3.11.4"
  }
 },
 "nbformat": 4,
 "nbformat_minor": 5
}
